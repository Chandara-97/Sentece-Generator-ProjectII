{
 "cells": [
  {
   "cell_type": "code",
   "execution_count": 1,
   "metadata": {},
   "outputs": [],
   "source": [
    "import csv\n",
    "import pandas as pd"
   ]
  },
  {
   "cell_type": "code",
   "execution_count": 2,
   "metadata": {},
   "outputs": [
    {
     "name": "stdout",
     "output_type": "stream",
     "text": [
      "*****../1.AskAboutTrendingNews.csv*****\n",
      "Before Remove duplicate: 1349\n",
      "Before Remove duplicate: 1349\n",
      "*****../2.CuriculumInEachMajor.csv*****\n",
      "Before Remove duplicate: 2099\n",
      "Before Remove duplicate: 2099\n",
      "*****../3.AskBuildingInformationInCADT.csv*****\n",
      "Before Remove duplicate: 1919\n",
      "Before Remove duplicate: 46\n",
      "*****../4.FindToilet.csv*****\n",
      "Before Remove duplicate: 223\n",
      "Before Remove duplicate: 104\n",
      "*****../5.IsToiletExist.csv*****\n",
      "Before Remove duplicate: 863\n",
      "Before Remove duplicate: 528\n",
      "*****../6.AskAboutTopManagementPersonal.csv*****\n",
      "Before Remove duplicate: 290303\n",
      "Before Remove duplicate: 864\n",
      "*****../1.AskAboutTrendingNews.csv*****\n",
      "Before Remove duplicate: 1349\n",
      "Before Remove duplicate: 1349\n",
      "*****../2.CuriculumInEachMajor.csv*****\n",
      "Before Remove duplicate: 2099\n",
      "Before Remove duplicate: 2099\n",
      "*****../3.AskBuildingInformationInCADT.csv*****\n",
      "Before Remove duplicate: 1919\n",
      "Before Remove duplicate: 46\n",
      "*****../4.FindToilet.csv*****\n",
      "Before Remove duplicate: 223\n",
      "Before Remove duplicate: 104\n",
      "*****../5.IsToiletExist.csv*****\n",
      "Before Remove duplicate: 863\n",
      "Before Remove duplicate: 528\n",
      "*****../6.AskAboutTopManagementPersonal.csv*****\n",
      "Before Remove duplicate: 290303\n",
      "Before Remove duplicate: 864\n"
     ]
    }
   ],
   "source": [
    "path_to_clean = ['../1.AskAboutTrendingNews.csv', '../2.CuriculumInEachMajor.csv',\n",
    "                 '../3.AskBuildingInformationInCADT.csv', '../4.FindToilet.csv', '../5.IsToiletExist.csv', '../6.AskAboutTopManagementPersonal.csv']\n",
    "for sentences in path_to_clean:\n",
    "    sentence = pd.read_csv(sentences)\n",
    "    print(\"*****\"+sentences+\"*****\")\n",
    "    print(\"Before Remove duplicate:\", sentence.__len__())\n",
    "    sentence = sentence.drop_duplicates()\n",
    "    print(\"Before Remove duplicate:\", sentence.__len__())\n",
    "    path_to_save = 'data/'+sentences.replace('../', \"\")\n",
    "    sentence.to_csv(path_to_save, index=False, encoding='utf-8')\n",
    "\n",
    "for sentences in path_to_clean:\n",
    "    sentence = pd.read_csv(sentences)\n",
    "    print(\"*****\"+sentences+\"*****\")\n",
    "    print(\"Before Remove duplicate:\", sentence.__len__())\n",
    "    sentence = sentence.drop_duplicates()\n",
    "    path_intent = sentences.replace(\n",
    "        '../', \"\").replace('.csv', '').replace('.', '')\n",
    "    name_intent = ''.join([i for i in path_intent if not i.isdigit()])\n",
    "    sentence.insert(column='intent', value=name_intent, loc=1)\n",
    "    print(\"Before Remove duplicate:\", sentence.__len__())\n",
    "    path_to_save = 'data_to_git/'+name_intent+'.csv'\n",
    "    sentence.to_csv(path_to_save, index=False, encoding='utf-8',\n",
    "                    header=['question', 'intent'])\n"
   ]
  },
  {
   "cell_type": "code",
   "execution_count": null,
   "metadata": {},
   "outputs": [],
   "source": []
  }
 ],
 "metadata": {
  "kernelspec": {
   "display_name": "Python 3.9.12 ('base')",
   "language": "python",
   "name": "python3"
  },
  "language_info": {
   "codemirror_mode": {
    "name": "ipython",
    "version": 3
   },
   "file_extension": ".py",
   "mimetype": "text/x-python",
   "name": "python",
   "nbconvert_exporter": "python",
   "pygments_lexer": "ipython3",
   "version": "3.9.12"
  },
  "orig_nbformat": 4,
  "vscode": {
   "interpreter": {
    "hash": "2cef1f420afa0c40d2c70250307f8495e2544e553fcd12ff6c9ee53c1f713ef5"
   }
  }
 },
 "nbformat": 4,
 "nbformat_minor": 2
}
