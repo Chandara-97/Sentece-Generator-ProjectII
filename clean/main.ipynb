{
 "cells": [
  {
   "cell_type": "code",
   "execution_count": 1,
   "metadata": {},
   "outputs": [],
   "source": [
    "import csv\n",
    "import pandas as pd"
   ]
  },
  {
   "cell_type": "code",
   "execution_count": 2,
   "metadata": {},
   "outputs": [
    {
     "name": "stdout",
     "output_type": "stream",
     "text": [
      "*****../1.AskAboutTrendingNews.csv*****\n",
      "Before Remove duplicate: 1349\n",
      "Before Remove duplicate: 1349\n",
      "*****../2.CuriculumInEachMajor.csv*****\n",
      "Before Remove duplicate: 2099\n",
      "Before Remove duplicate: 2099\n",
      "*****../3.AskBuildingInformationInCADT.csv*****\n",
      "Before Remove duplicate: 383\n",
      "Before Remove duplicate: 22\n",
      "*****../4.FindToilet.csv*****\n",
      "Before Remove duplicate: 223\n",
      "Before Remove duplicate: 104\n",
      "*****../5.IsToiletExist.csv*****\n",
      "Before Remove duplicate: 863\n",
      "Before Remove duplicate: 528\n",
      "*****../6.AskAboutTopManagementPersonal.csv*****\n",
      "Before Remove duplicate: 290303\n",
      "Before Remove duplicate: 864\n"
     ]
    }
   ],
   "source": [
    "path_to_clean = ['../1.AskAboutTrendingNews.csv', '../2.CuriculumInEachMajor.csv',\n",
    "                 '../3.AskBuildingInformationInCADT.csv', '../4.FindToilet.csv', '../5.IsToiletExist.csv', '../6.AskAboutTopManagementPersonal.csv']\n",
    "for sentences in path_to_clean:\n",
    "    sentence = pd.read_csv(sentences)\n",
    "    print(\"*****\"+sentences+\"*****\")\n",
    "    print(\"Before Remove duplicate:\", sentence.__len__())\n",
    "    sentence = sentence.drop_duplicates()\n",
    "    print(\"Before Remove duplicate:\", sentence.__len__())\n",
    "    path_to_save = 'data/'+sentences.replace('../', \"\")\n",
    "    sentence.to_csv(path_to_save, index=False, encoding='utf-8')\n"
   ]
  },
  {
   "cell_type": "code",
   "execution_count": null,
   "metadata": {},
   "outputs": [],
   "source": []
  }
 ],
 "metadata": {
  "kernelspec": {
   "display_name": "Python 3.10.7 64-bit",
   "language": "python",
   "name": "python3"
  },
  "language_info": {
   "codemirror_mode": {
    "name": "ipython",
    "version": 3
   },
   "file_extension": ".py",
   "mimetype": "text/x-python",
   "name": "python",
   "nbconvert_exporter": "python",
   "pygments_lexer": "ipython3",
   "version": "3.10.7"
  },
  "orig_nbformat": 4,
  "vscode": {
   "interpreter": {
    "hash": "aee8b7b246df8f9039afb4144a1f6fd8d2ca17a180786b69acc140d282b71a49"
   }
  }
 },
 "nbformat": 4,
 "nbformat_minor": 2
}
