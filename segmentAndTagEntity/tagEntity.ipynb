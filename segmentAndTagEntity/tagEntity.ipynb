{
 "cells": [
  {
   "cell_type": "code",
   "execution_count": 8,
   "metadata": {},
   "outputs": [
    {
     "name": "stdout",
     "output_type": "stream",
     "text": [
      "43/43 [==============================] - 56s 1s/step\n",
      "Writing to file: In progress.\n",
      "Word segmentation status: Sucess.\n",
      "66/66 [==============================] - 88s 1s/step\n",
      "Writing to file: In progress.\n",
      "Word segmentation status: Sucess.\n",
      "1/1 [==============================] - 1s 650ms/step\n",
      "Writing to file: In progress.\n",
      "Word segmentation status: Sucess.\n",
      "4/4 [==============================] - 4s 1s/step\n",
      "Writing to file: In progress.\n",
      "Word segmentation status: Sucess.\n",
      "17/17 [==============================] - 22s 1s/step\n",
      "Writing to file: In progress.\n",
      "Word segmentation status: Sucess.\n",
      "28/28 [==============================] - 37s 1s/step\n",
      "Writing to file: In progress.\n",
      "Word segmentation status: Sucess.\n"
     ]
    }
   ],
   "source": [
    "df = pd.read_csv(\n",
    "    \"/Users/chhounsophanon/Desktop/project2/name-entity-recognition-khmer-chatbot/segment/AskAboutStaffRoom.csv\")\n",
    "df['question']\n",
    "entity = {\n",
    "    'វិទ្យា ស្ថាន បច្ចេកវិទ្យា ឌីជីថល': 'វិទ្យា ស្ថាន បច្ចេកវិទ្យា/B-ORG ឌីជីថល/I-ORG',\n",
    "    'បណ្ឌិត្យ សភា បច្ចេកវិទ្យា ឌីជីថល កម្ពុជា': 'បណ្ឌិត្យ/B-ORG សភា/I-ORG បច្ចេកវិទ្យា/I-ORG ឌីជីថល/I-ORG កម្ពុជា/I-ORG',\n",
    "    'CADT': 'CADT/B-ORG',\n",
    "    'អាយឌីធី': 'អាយឌីធី/B-ORG',\n",
    "    'IDT': 'IDT/B-ORG',\n",
    "    'អាយឌីអអាយ': 'អាយឌីអអាយ/B-ORG',\n",
    "    'IDRI': 'IDRI/B-ORG',\n",
    "    'អាយឌីជី': 'អាយឌីជី/B-ORG',\n",
    "    'IDG': 'IDG/B-ORG',\n",
    "    'ជាន់ ទី ១': 'ជាន់/B-FLOOR ទី/I-FLOOR ១/I-FLOOR',\n",
    "    'ជាន់ ទី ២': 'ជាន់/B-FLOOR ទី/I-FLOOR ២/I-FLOOR',\n",
    "    'វិទ្យា ស្ថាន អភិបាល កិច្ជ ឌីជីថល': 'វិទ្យា ស្ថាន អភិបាល/B-ORG កិច្ជ/I-ORG ឌីជីថល/I-ORG',\n",
    "    'វិទ្យា ស្ថាន ស្រាវជ្រាវ និងនវានុវត្តន៍ ឌីជីថល': 'វិទ្យា ស្ថាន ស្រាវជ្រាវ/B-ORG និងនវានុវត្តន៍/I-ORG ឌីជីថល/I-ORG',\n",
    "    'វិទ្យា ស្ថាន ថាក់គ្លូប៊ល': 'វិទ្យា ស្ថាន ថាក់គ្លូប៊ល/B-ORG',\n",
    "    'វិទ្យា ស្ថាន បច្ចេកវិទ្យា': 'វិទ្យា ស្ថាន បច្ចេកវិទ្យា/B-ORG',\n",
    "    'វិទ្យា ស្ថាន ជាតិ ពហុ បច្ចេកទេស កម្ពុជា': 'វិទ្យា ស្ថាន ជាតិ/I-ORG ពហុ/I-ORG បច្ចេកទេស/I-ORG កម្ពុជា/I-ORG',\n",
    "    'វិទ្យា ស្ថាន ស៊ីតិក': 'វិទ្យា ស្ថាន ស៊ីតិក/B-ORG',\n",
    "    'វិទ្យា ស្ថាន ពហុ បច្ចេកទេស ព្រះ កុសុមៈ': 'វិទ្យា ស្ថាន ពហុ/B-ORG បច្ចេកទេស/I-ORG ព្រះ/I-ORG កុសុមៈ/I-ORG',\n",
    "    'វិទ្យា ស្ថាន ជាតិ អប់រំ': 'វិទ្យា ស្ថាន ជាតិ/B-ORG អប់រំ/I-ORG',\n",
    "    'វិទ្យា ស្ថាន សេដ្ឋ កិច្ច និង ហិរញ្ញ វត្ថុ': 'វិទ្យា ស្ថាន សេដ្ឋ/B-ORG កិច្ច/I-ORG និង/I-ORG ហិរញ្ញ/I-ORG វត្ថុ/I-ORG',\n",
    "    'វិទ្យា ស្ថាន ស្រាវជ្រាវ អភិវឌ្ឍន៍ កម្ពុជា': 'វិទ្យា ស្ថាន ស្រាវជ្រាវ/B-ORG អភិវឌ្ឍន៍/I-ORG កម្ពុជា/I-ORG',\n",
    "}\n",
    "\n",
    "for index, sentence in df.iterrows():\n",
    "    for key in entity: \n",
    "        if key in sentence['question']:\n",
    "            sentence['question'] = sentence['question'].replace(\n",
    "                key, entity[key])\n",
    "            break\n",
    "    df.loc[index] = sentence \n",
    "\n",
    "\n",
    "df.to_csv('/Users/chhounsophanon/Desktop/project2/name-entity-recognition-khmer-chatbot/entity-tag/AskAboutStaffRoom.csv', index=False)"
   ]
  },
  {
   "cell_type": "code",
   "execution_count": null,
   "metadata": {},
   "outputs": [],
   "source": []
  }
 ],
 "metadata": {
  "kernelspec": {
   "display_name": "Python 3.10.7 64-bit",
   "language": "python",
   "name": "python3"
  },
  "language_info": {
   "codemirror_mode": {
    "name": "ipython",
    "version": 3
   },
   "file_extension": ".py",
   "mimetype": "text/x-python",
   "name": "python",
   "nbconvert_exporter": "python",
   "pygments_lexer": "ipython3",
   "version": "3.10.7"
  },
  "orig_nbformat": 4,
  "vscode": {
   "interpreter": {
    "hash": "369f2c481f4da34e4445cda3fffd2e751bd1c4d706f27375911949ba6bb62e1c"
   }
  }
 },
 "nbformat": 4,
 "nbformat_minor": 2
}
