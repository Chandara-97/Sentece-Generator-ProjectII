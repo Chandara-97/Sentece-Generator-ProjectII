{
 "cells": [
  {
   "cell_type": "code",
   "execution_count": 3,
   "metadata": {},
   "outputs": [],
   "source": [
    "import pandas as pd"
   ]
  },
  {
   "cell_type": "markdown",
   "metadata": {},
   "source": [
    "Room\tROOM\tF101, Jupyter\t\n",
    "Building\tBUILD\tInnovation Center, IDT building\t\n",
    "Person\tPER\tLyheang, Andrew\t\n",
    "Floor\tFLOOR\tMeeting, \t\n",
    "Ordinal\tORD\t1st, 2nd, 3rd \t\n",
    "Cardinal\tCAR\t1000, 9999,1,0,2\t\n",
    "Date\tDATE\t12th Jan 2000\t\n",
    "Time\tTIME\t10:00 PM\t\n",
    "Money\tMONEY\t1000 $, ៛\t\n",
    "Event\tEVE\tCode-C\t\n",
    "Announcement\tANN\tBack to school, \t\n",
    "Country, CIty\tGPE\tCambodia, Laos, Phnom Penh\t\n",
    "Location\tLOC\tPrek Leap, Chroy Jongva, Lefthand of the road\t\n",
    "Organization\tORG\tCADT, EZECOM, PIZZA COMPANY....\t"
   ]
  },
  {
   "cell_type": "markdown",
   "metadata": {},
   "source": [
    "### AskAboutTopManagementPersonal"
   ]
  },
  {
   "cell_type": "code",
   "execution_count": 16,
   "metadata": {},
   "outputs": [],
   "source": [
    "df = pd.read_csv(\"./data_to_git_segment/AskAboutTopManagementPersonal.csv\")\n",
    "df['question']\n",
    "entity = {\n",
    "    'លោក បណ្ឌិត សេងសុភាព': 'លោក បណ្ឌិត សេងសុភាព/B-PER',\n",
    "    'បណ្ឌិត សេងសុភាព': 'បណ្ឌិត សេងសុភាព/B-PER',\n",
    "    'លោក សេងសុភាព': 'លោក សេងសុភាព/B-PER',\n",
    "    'លោក សំបឿន': 'លោក សំបឿន/B-PER',\n",
    "    'ឯក​ ឧត្តម សំបឿន': 'ឯក​ ឧត្តម សំបឿន/B-PER',\n",
    "    'ឯក ឧត្តម សេងសុភាព': 'ឯក ឧត្តម សេងសុភាព/B-PER',\n",
    "    # 'អាយឌីអអាយ': 'អាយឌីអអាយ/B-ORG',\n",
    "    # 'IDRI': 'IDRI/B-ORG',\n",
    "    # 'អាយឌីជី': 'អាយឌីជី/B-ORG',\n",
    "    # 'IDG': 'IDG/B-ORG',\n",
    "    # 'ជាន់ ទី ១': 'ជាន់/B-FLOOR ទី/I-FLOOR ១/I-FLOOR',\n",
    "    # 'ជាន់ ទី ២': 'ជាន់/B-FLOOR ទី/I-FLOOR ២/I-FLOOR',\n",
    "    # 'វិទ្យា ស្ថាន អភិបាល កិច្ជ ឌីជីថល': 'វិទ្យា ស្ថាន អភិបាល/B-ORG កិច្ជ/I-ORG ឌីជីថល/I-ORG',\n",
    "    # 'វិទ្យា ស្ថាន ស្រាវជ្រាវ និងនវានុវត្តន៍ ឌីជីថល': 'វិទ្យា ស្ថាន ស្រាវជ្រាវ/B-ORG និងនវានុវត្តន៍/I-ORG ឌីជីថល/I-ORG',\n",
    "    # 'វិទ្យា ស្ថាន ថាក់គ្លូប៊ល': 'វិទ្យា ស្ថាន ថាក់គ្លូប៊ល/B-ORG',\n",
    "    # 'វិទ្យា ស្ថាន បច្ចេកវិទ្យា': 'វិទ្យា ស្ថាន បច្ចេកវិទ្យា/B-ORG',\n",
    "    # 'វិទ្យា ស្ថាន ជាតិ ពហុ បច្ចេកទេស កម្ពុជា': 'វិទ្យា ស្ថាន ជាតិ/I-ORG ពហុ/I-ORG បច្ចេកទេស/I-ORG កម្ពុជា/I-ORG',\n",
    "    # 'វិទ្យា ស្ថាន ស៊ីតិក': 'វិទ្យា ស្ថាន ស៊ីតិក/B-ORG',\n",
    "    # 'វិទ្យា ស្ថាន ពហុ បច្ចេកទេស ព្រះ កុសុមៈ': 'វិទ្យា ស្ថាន ពហុ/B-ORG បច្ចេកទេស/I-ORG ព្រះ/I-ORG កុសុមៈ/I-ORG',\n",
    "    # 'វិទ្យា ស្ថាន ជាតិ អប់រំ': 'វិទ្យា ស្ថាន ជាតិ/B-ORG អប់រំ/I-ORG',\n",
    "    # 'វិទ្យា ស្ថាន សេដ្ឋ កិច្ច និង ហិរញ្ញ វត្ថុ': 'វិទ្យា ស្ថាន សេដ្ឋ/B-ORG កិច្ច/I-ORG និង/I-ORG ហិរញ្ញ/I-ORG វត្ថុ/I-ORG',\n",
    "    # 'វិទ្យា ស្ថាន ស្រាវជ្រាវ អភិវឌ្ឍន៍ កម្ពុជា': 'វិទ្យា ស្ថាន ស្រាវជ្រាវ/B-ORG អភិវឌ្ឍន៍/I-ORG កម្ពុជា/I-ORG',\n",
    "}\n",
    "\n",
    "for index, sentence in df.iterrows():\n",
    "    for key in entity: \n",
    "        if key in sentence['question']:\n",
    "            sentence['question'] = sentence['question'].replace(\n",
    "                key, entity[key])\n",
    "            break\n",
    "    df.loc[index] = sentence \n",
    "\n",
    "\n",
    "df.to_csv('./tagEntity/AskAboutTopManagementPersonal.csv', index=False)"
   ]
  },
  {
   "cell_type": "markdown",
   "metadata": {},
   "source": [
    "### AskAboutTrendingNews"
   ]
  },
  {
   "cell_type": "code",
   "execution_count": 18,
   "metadata": {},
   "outputs": [],
   "source": [
    "df = pd.read_csv(\"./data_to_git_segment/AskAboutTrendingNews.csv\")\n",
    "df['question']\n",
    "entity = {\n",
    "    'NIPTICT': 'NIPTICT/B-ORG',\n",
    "    'CADT': 'CADT/B-ORG',\n",
    "    'សុីអេដីធី': 'សុីអេដីធី/B-ORG',\n",
    "    'ណិពទិច': 'ណិពទិច/B-ORG', \n",
    "    'ណិព ទិច': 'ណិព ទិច/B-ORG', \n",
    "    'សុីអេ ដីធី': 'សុីអេ ដីធី/B-ORG', \n",
    "    'Cambodia Academy of Digital Technology': 'Cambodia Academy of Digital Technology/B-ORG',\n",
    "    'បណ្ឌិត្យ សភា បច្ចេកវិទ្យា ឌីជីថល កម្ពុជា': 'បណ្ឌិត្យ សភា បច្ចេកវិទ្យា ឌីជីថល កម្ពុជា/B-ORG',\n",
    "    # 'លោក សេងសុភាព': 'លោក សេងសុភាព/B-PER',\n",
    "    # 'លោក សំបឿន': 'លោក សំបឿន/B-PER',\n",
    "    # 'ឯក​ ឧត្តម សំបឿន': 'ឯក​ ឧត្តម សំបឿន/B-PER',\n",
    "    # 'ឯក ឧត្តម សេងសុភាព': 'ឯក ឧត្តម សេងសុភាព/B-PER',\n",
    "    # 'អាយឌីអអាយ': 'អាយឌីអអាយ/B-ORG',\n",
    "    # 'IDRI': 'IDRI/B-ORG',\n",
    "    # 'អាយឌីជី': 'អាយឌីជី/B-ORG',\n",
    "    # 'IDG': 'IDG/B-ORG',\n",
    "    # 'ជាន់ ទី ១': 'ជាន់/B-FLOOR ទី/I-FLOOR ១/I-FLOOR',\n",
    "    # 'ជាន់ ទី ២': 'ជាន់/B-FLOOR ទី/I-FLOOR ២/I-FLOOR',\n",
    "    # 'វិទ្យា ស្ថាន អភិបាល កិច្ជ ឌីជីថល': 'វិទ្យា ស្ថាន អភិបាល/B-ORG កិច្ជ/I-ORG ឌីជីថល/I-ORG',\n",
    "    # 'វិទ្យា ស្ថាន ស្រាវជ្រាវ និងនវានុវត្តន៍ ឌីជីថល': 'វិទ្យា ស្ថាន ស្រាវជ្រាវ/B-ORG និងនវានុវត្តន៍/I-ORG ឌីជីថល/I-ORG',\n",
    "    # 'វិទ្យា ស្ថាន ថាក់គ្លូប៊ល': 'វិទ្យា ស្ថាន ថាក់គ្លូប៊ល/B-ORG',\n",
    "    # 'វិទ្យា ស្ថាន បច្ចេកវិទ្យា': 'វិទ្យា ស្ថាន បច្ចេកវិទ្យា/B-ORG',\n",
    "    # 'វិទ្យា ស្ថាន ជាតិ ពហុ បច្ចេកទេស កម្ពុជា': 'វិទ្យា ស្ថាន ជាតិ/I-ORG ពហុ/I-ORG បច្ចេកទេស/I-ORG កម្ពុជា/I-ORG',\n",
    "    # 'វិទ្យា ស្ថាន ស៊ីតិក': 'វិទ្យា ស្ថាន ស៊ីតិក/B-ORG',\n",
    "    # 'វិទ្យា ស្ថាន ពហុ បច្ចេកទេស ព្រះ កុសុមៈ': 'វិទ្យា ស្ថាន ពហុ/B-ORG បច្ចេកទេស/I-ORG ព្រះ/I-ORG កុសុមៈ/I-ORG',\n",
    "    # 'វិទ្យា ស្ថាន ជាតិ អប់រំ': 'វិទ្យា ស្ថាន ជាតិ/B-ORG អប់រំ/I-ORG',\n",
    "    # 'វិទ្យា ស្ថាន សេដ្ឋ កិច្ច និង ហិរញ្ញ វត្ថុ': 'វិទ្យា ស្ថាន សេដ្ឋ/B-ORG កិច្ច/I-ORG និង/I-ORG ហិរញ្ញ/I-ORG វត្ថុ/I-ORG',\n",
    "    # 'វិទ្យា ស្ថាន ស្រាវជ្រាវ អភិវឌ្ឍន៍ កម្ពុជា': 'វិទ្យា ស្ថាន ស្រាវជ្រាវ/B-ORG អភិវឌ្ឍន៍/I-ORG កម្ពុជា/I-ORG',\n",
    "}\n",
    "\n",
    "for index, sentence in df.iterrows():\n",
    "    for key in entity: \n",
    "        if key in sentence['question']:\n",
    "            sentence['question'] = sentence['question'].replace(\n",
    "                key, entity[key])\n",
    "            break\n",
    "    df.loc[index] = sentence \n",
    "\n",
    "\n",
    "df.to_csv('./tagEntity/AskAboutTrendingNews.csv', index=False)"
   ]
  },
  {
   "cell_type": "markdown",
   "metadata": {},
   "source": [
    "### AskBuildingInformationInCADT"
   ]
  },
  {
   "cell_type": "code",
   "execution_count": 19,
   "metadata": {},
   "outputs": [],
   "source": [
    "df = pd.read_csv(\"./data_to_git_segment/AskBuildingInformationInCADT.csv\")\n",
    "df['question']\n",
    "entity = {\n",
    "    'NIPTICT': 'NIPTICT/B-ORG',\n",
    "    'CADT': 'CADT/B-ORG',\n",
    "    'សុីអេដីធី': 'សុីអេដីធី/B-ORG',\n",
    "    'ណិពទិច': 'ណិពទិច/B-ORG', \n",
    "    'ណិព ទិច': 'ណិព ទិច/B-ORG', \n",
    "    'សុីអេ ដីធី': 'សុីអេ ដីធី/B-ORG', \n",
    "    'Cambodia Academy of Digital Technology': 'Cambodia Academy of Digital Technology/B-ORG',\n",
    "    'បណ្ឌិត្យ សភា បច្ចេកវិទ្យា ឌីជីថល កម្ពុជា': 'បណ្ឌិត្យ សភា បច្ចេកវិទ្យា ឌីជីថល កម្ពុជា/B-ORG',\n",
    "    \"Inovation Center\":'Inovation Center/B-ORG',\n",
    "    \"អុីននូវេសុិន សេនធឺ\":'អុីននូវេសុិន សេនធឺ /B-ORG',\n",
    "    # 'លោក សេងសុភាព': 'លោក សេងសុភាព/B-PER',\n",
    "    # 'លោក សំបឿន': 'លោក សំបឿន/B-PER',\n",
    "    # 'ឯក​ ឧត្តម សំបឿន': 'ឯក​ ឧត្តម សំបឿន/B-PER',\n",
    "    # 'ឯក ឧត្តម សេងសុភាព': 'ឯក ឧត្តម សេងសុភាព/B-PER',\n",
    "    # 'អាយឌីអអាយ': 'អាយឌីអអាយ/B-ORG',\n",
    "    # 'IDRI': 'IDRI/B-ORG',\n",
    "    # 'អាយឌីជី': 'អាយឌីជី/B-ORG',\n",
    "    # 'IDG': 'IDG/B-ORG',\n",
    "    # 'ជាន់ ទី ១': 'ជាន់/B-FLOOR ទី/I-FLOOR ១/I-FLOOR',\n",
    "    # 'ជាន់ ទី ២': 'ជាន់/B-FLOOR ទី/I-FLOOR ២/I-FLOOR',\n",
    "    # 'វិទ្យា ស្ថាន អភិបាល កិច្ជ ឌីជីថល': 'វិទ្យា ស្ថាន អភិបាល/B-ORG កិច្ជ/I-ORG ឌីជីថល/I-ORG',\n",
    "    # 'វិទ្យា ស្ថាន ស្រាវជ្រាវ និងនវានុវត្តន៍ ឌីជីថល': 'វិទ្យា ស្ថាន ស្រាវជ្រាវ/B-ORG និងនវានុវត្តន៍/I-ORG ឌីជីថល/I-ORG',\n",
    "    # 'វិទ្យា ស្ថាន ថាក់គ្លូប៊ល': 'វិទ្យា ស្ថាន ថាក់គ្លូប៊ល/B-ORG',\n",
    "    # 'វិទ្យា ស្ថាន បច្ចេកវិទ្យា': 'វិទ្យា ស្ថាន បច្ចេកវិទ្យា/B-ORG',\n",
    "    # 'វិទ្យា ស្ថាន ជាតិ ពហុ បច្ចេកទេស កម្ពុជា': 'វិទ្យា ស្ថាន ជាតិ/I-ORG ពហុ/I-ORG បច្ចេកទេស/I-ORG កម្ពុជា/I-ORG',\n",
    "    # 'វិទ្យា ស្ថាន ស៊ីតិក': 'វិទ្យា ស្ថាន ស៊ីតិក/B-ORG',\n",
    "    # 'វិទ្យា ស្ថាន ពហុ បច្ចេកទេស ព្រះ កុសុមៈ': 'វិទ្យា ស្ថាន ពហុ/B-ORG បច្ចេកទេស/I-ORG ព្រះ/I-ORG កុសុមៈ/I-ORG',\n",
    "    # 'វិទ្យា ស្ថាន ជាតិ អប់រំ': 'វិទ្យា ស្ថាន ជាតិ/B-ORG អប់រំ/I-ORG',\n",
    "    # 'វិទ្យា ស្ថាន សេដ្ឋ កិច្ច និង ហិរញ្ញ វត្ថុ': 'វិទ្យា ស្ថាន សេដ្ឋ/B-ORG កិច្ច/I-ORG និង/I-ORG ហិរញ្ញ/I-ORG វត្ថុ/I-ORG',\n",
    "    # 'វិទ្យា ស្ថាន ស្រាវជ្រាវ អភិវឌ្ឍន៍ កម្ពុជា': 'វិទ្យា ស្ថាន ស្រាវជ្រាវ/B-ORG អភិវឌ្ឍន៍/I-ORG កម្ពុជា/I-ORG',\n",
    "}\n",
    "\n",
    "for index, sentence in df.iterrows():\n",
    "    for key in entity: \n",
    "        if key in sentence['question']:\n",
    "            sentence['question'] = sentence['question'].replace(\n",
    "                key, entity[key])\n",
    "            break\n",
    "    df.loc[index] = sentence \n",
    "\n",
    "\n",
    "df.to_csv('./tagEntity/AskBuildingInformationInCADT.csv', index=False)"
   ]
  },
  {
   "cell_type": "markdown",
   "metadata": {},
   "source": []
  }
 ],
 "metadata": {
  "kernelspec": {
   "display_name": "Python 3.8.13 ('mlp': conda)",
   "language": "python",
   "name": "python3"
  },
  "language_info": {
   "codemirror_mode": {
    "name": "ipython",
    "version": 3
   },
   "file_extension": ".py",
   "mimetype": "text/x-python",
   "name": "python",
   "nbconvert_exporter": "python",
   "pygments_lexer": "ipython3",
   "version": "3.8.13"
  },
  "orig_nbformat": 4,
  "vscode": {
   "interpreter": {
    "hash": "53b588326e12df87ea935ad9e02bf1a6b4477e73cde850f9effb10902de3299d"
   }
  }
 },
 "nbformat": 4,
 "nbformat_minor": 2
}
