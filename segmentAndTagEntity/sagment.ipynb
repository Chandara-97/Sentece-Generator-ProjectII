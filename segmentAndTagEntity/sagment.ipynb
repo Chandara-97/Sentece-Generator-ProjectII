{
 "cells": [
  {
   "cell_type": "code",
   "execution_count": 1,
   "metadata": {},
   "outputs": [
    {
     "name": "stdout",
     "output_type": "stream",
     "text": [
      "43/43 [==============================] - 61s 1s/step\n",
      "Writing to file: In progress.\n",
      "Word segmentation status: Sucess.\n",
      "66/66 [==============================] - 92s 1s/step\n",
      "Writing to file: In progress.\n",
      "Word segmentation status: Sucess.\n",
      "2/2 [==============================] - 2s 351ms/step\n",
      "Writing to file: In progress.\n",
      "Word segmentation status: Sucess.\n",
      "4/4 [==============================] - 5s 1s/step\n",
      "Writing to file: In progress.\n",
      "Word segmentation status: Sucess.\n",
      "17/17 [==============================] - 23s 1s/step\n",
      "Writing to file: In progress.\n",
      "Word segmentation status: Sucess.\n",
      "28/28 [==============================] - 39s 1s/step\n",
      "Writing to file: In progress.\n",
      "Word segmentation status: Sucess.\n"
     ]
    }
   ],
   "source": [
    "from bilstm_tokenizer import tokenize_sentences_bilstm, tokenize_file_bilstm\n",
    "import pandas as pd\n",
    "# sents=[\"គាត់កំពុងឆ្លើយតបទៅនឹងការអត្ថាធិប្បាយរបស់វាគ្មិន\", \"ញញ្ញត្តិរបស់ក្រុមបុគ្គលិកត្រូវបានតំណាងក្រសួងការងារទទួលយកប៉ុន្តែនៅមិនទាន់សម្រេចបែបណានៅឡើយទេ\"]\n",
    "# res = tokenize_sentences_bilstm(sents)\n",
    "\n",
    "# tokenize_file_bilstm(\"test.txt\", \"test_out.txt\")\n",
    "path_to_clean = ['data_to_git/AskAboutTrendingNews.csv', 'data_to_git/CuriculumInEachMajor.csv',\n",
    "                 'data_to_git/AskBuildingInformationInCADT.csv', 'data_to_git/FindToilet.csv', 'data_to_git/IsToiletExist.csv', 'data_to_git/AskAboutTopManagementPersonal.csv']\n",
    "for sentences in path_to_clean:\n",
    "    path_to_save = 'data_to_git_segment/'+ sentences.replace('data_to_git','')\n",
    "    tokenize_file_bilstm(sentences, path_to_save)\n"
   ]
  },
  {
   "cell_type": "code",
   "execution_count": null,
   "metadata": {},
   "outputs": [],
   "source": []
  }
 ],
 "metadata": {
  "kernelspec": {
   "display_name": "Python 3.10.7 64-bit",
   "language": "python",
   "name": "python3"
  },
  "language_info": {
   "codemirror_mode": {
    "name": "ipython",
    "version": 3
   },
   "file_extension": ".py",
   "mimetype": "text/x-python",
   "name": "python",
   "nbconvert_exporter": "python",
   "pygments_lexer": "ipython3",
   "version": "3.10.7"
  },
  "orig_nbformat": 4,
  "vscode": {
   "interpreter": {
    "hash": "369f2c481f4da34e4445cda3fffd2e751bd1c4d706f27375911949ba6bb62e1c"
   }
  }
 },
 "nbformat": 4,
 "nbformat_minor": 2
}
