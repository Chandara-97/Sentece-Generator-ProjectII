{
 "cells": [
  {
   "cell_type": "code",
   "execution_count": 1,
   "metadata": {},
   "outputs": [
    {
     "ename": "ModuleNotFoundError",
     "evalue": "No module named 'tensorflow'",
     "output_type": "error",
     "traceback": [
      "\u001b[0;31m---------------------------------------------------------------------------\u001b[0m",
      "\u001b[0;31mModuleNotFoundError\u001b[0m                       Traceback (most recent call last)",
      "Cell \u001b[0;32mIn [1], line 1\u001b[0m\n\u001b[0;32m----> 1\u001b[0m \u001b[38;5;28;01mfrom\u001b[39;00m \u001b[38;5;21;01mbilstm_tokenizer\u001b[39;00m \u001b[38;5;28;01mimport\u001b[39;00m tokenize_sentences_bilstm, tokenize_file_bilstm\n\u001b[1;32m      2\u001b[0m \u001b[38;5;28;01mimport\u001b[39;00m \u001b[38;5;21;01mpandas\u001b[39;00m \u001b[38;5;28;01mas\u001b[39;00m \u001b[38;5;21;01mpd\u001b[39;00m\n\u001b[1;32m      3\u001b[0m \u001b[38;5;66;03m# sents=[\"គាត់កំពុងឆ្លើយតបទៅនឹងការអត្ថាធិប្បាយរបស់វាគ្មិន\", \"ញញ្ញត្តិរបស់ក្រុមបុគ្គលិកត្រូវបានតំណាងក្រសួងការងារទទួលយកប៉ុន្តែនៅមិនទាន់សម្រេចបែបណានៅឡើយទេ\"]\u001b[39;00m\n\u001b[1;32m      4\u001b[0m \u001b[38;5;66;03m# res = tokenize_sentences_bilstm(sents)\u001b[39;00m\n\u001b[1;32m      5\u001b[0m \n\u001b[1;32m      6\u001b[0m \u001b[38;5;66;03m# tokenize_file_bilstm(\"test.txt\", \"test_out.txt\")\u001b[39;00m\n",
      "File \u001b[0;32m~/Documents/Academy/CADT/term10/ProjectII/Sentece-Generator-ProjectII/segmentAndTagEntity/bilstm_tokenizer.py:19\u001b[0m\n\u001b[1;32m      7\u001b[0m \u001b[39mimport\u001b[39;00m \u001b[39mre\u001b[39;00m\n\u001b[1;32m      9\u001b[0m \u001b[39m# from gensim.models import KeyedVectors\u001b[39;00m\n\u001b[1;32m     10\u001b[0m \u001b[39m# from gensim.models import fasttext\u001b[39;00m\n\u001b[1;32m     11\u001b[0m \n\u001b[0;32m   (...)\u001b[0m\n\u001b[1;32m     17\u001b[0m \u001b[39m# from tensorflow.keras.layers import LSTM, GRU, Bidirectional, Dropout\u001b[39;00m\n\u001b[1;32m     18\u001b[0m \u001b[39m# from tensorflow.keras.preprocessing.text import Tokenizer\u001b[39;00m\n\u001b[0;32m---> 19\u001b[0m \u001b[39mfrom\u001b[39;00m \u001b[39mtensorflow\u001b[39;00m\u001b[39m.\u001b[39;00m\u001b[39mkeras\u001b[39;00m\u001b[39m.\u001b[39;00m\u001b[39mpreprocessing\u001b[39;00m\u001b[39m.\u001b[39;00m\u001b[39msequence\u001b[39;00m \u001b[39mimport\u001b[39;00m pad_sequences\n\u001b[1;32m     20\u001b[0m \u001b[39mfrom\u001b[39;00m \u001b[39mtensorflow\u001b[39;00m\u001b[39m.\u001b[39;00m\u001b[39mkeras\u001b[39;00m\u001b[39m.\u001b[39;00m\u001b[39mmodels\u001b[39;00m \u001b[39mimport\u001b[39;00m load_model\n\u001b[1;32m     21\u001b[0m \u001b[39mimport\u001b[39;00m \u001b[39mtensorflow\u001b[39;00m \u001b[39mas\u001b[39;00m \u001b[39mtf\u001b[39;00m\n",
      "\u001b[0;31mModuleNotFoundError\u001b[0m: No module named 'tensorflow'"
     ]
    }
   ],
   "source": [
    "from bilstm_tokenizer import tokenize_sentences_bilstm, tokenize_file_bilstm\n",
    "import pandas as pd\n",
    "# sents=[\"គាត់កំពុងឆ្លើយតបទៅនឹងការអត្ថាធិប្បាយរបស់វាគ្មិន\", \"ញញ្ញត្តិរបស់ក្រុមបុគ្គលិកត្រូវបានតំណាងក្រសួងការងារទទួលយកប៉ុន្តែនៅមិនទាន់សម្រេចបែបណានៅឡើយទេ\"]\n",
    "# res = tokenize_sentences_bilstm(sents)\n",
    "\n",
    "# tokenize_file_bilstm(\"test.txt\", \"test_out.txt\")\n",
    "path_to_clean = ['data_to_git/AskAboutTrendingNews.csv', 'data_to_git/CuriculumInEachMajor.csv',\n",
    "                 'data_to_git/AskBuildingInformationInCADT.csv', 'data_to_git/FindToilet.csv', 'data_to_git/IsToiletExist.csv', 'data_to_git/AskAboutTopManagementPersonal.csv']\n",
    "for sentences in path_to_clean:\n",
    "    path_to_save = 'data_to_git_segment/'+ sentences.replace('data_to_git','')\n",
    "    tokenize_file_bilstm(sentences, path_to_save)\n"
   ]
  },
  {
   "cell_type": "code",
   "execution_count": null,
   "metadata": {},
   "outputs": [],
   "source": []
  }
 ],
 "metadata": {
  "kernelspec": {
   "display_name": "Python 3.10.7 64-bit",
   "language": "python",
   "name": "python3"
  },
  "language_info": {
   "codemirror_mode": {
    "name": "ipython",
    "version": 3
   },
   "file_extension": ".py",
   "mimetype": "text/x-python",
   "name": "python",
   "nbconvert_exporter": "python",
   "pygments_lexer": "ipython3",
   "version": "3.10.7"
  },
  "orig_nbformat": 4,
  "vscode": {
   "interpreter": {
    "hash": "aee8b7b246df8f9039afb4144a1f6fd8d2ca17a180786b69acc140d282b71a49"
   }
  }
 },
 "nbformat": 4,
 "nbformat_minor": 2
}
