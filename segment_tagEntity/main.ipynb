{
 "cells": [
  {
   "cell_type": "code",
   "execution_count": 1,
   "metadata": {},
   "outputs": [
    {
     "ename": "NameError",
     "evalue": "name 'pd' is not defined",
     "output_type": "error",
     "traceback": [
      "\u001b[0;31m---------------------------------------------------------------------------\u001b[0m",
      "\u001b[0;31mNameError\u001b[0m                                 Traceback (most recent call last)",
      "Cell \u001b[0;32mIn [1], line 1\u001b[0m\n\u001b[0;32m----> 1\u001b[0m df \u001b[38;5;241m=\u001b[39m pd\u001b[38;5;241m.\u001b[39mread_csv(\n\u001b[1;32m      2\u001b[0m     \u001b[38;5;124m\"\u001b[39m\u001b[38;5;124m/Users/chhounsophanon/Desktop/project2/name-entity-recognition-khmer-chatbot/segment/AskAboutStaffRoom.csv\u001b[39m\u001b[38;5;124m\"\u001b[39m)\n\u001b[1;32m      3\u001b[0m df[\u001b[38;5;124m'\u001b[39m\u001b[38;5;124mquestion\u001b[39m\u001b[38;5;124m'\u001b[39m]\n\u001b[1;32m      4\u001b[0m entity \u001b[38;5;241m=\u001b[39m {\n\u001b[1;32m      5\u001b[0m     \u001b[38;5;124m'\u001b[39m\u001b[38;5;124mវិទ្យា ស្ថាន បច្ចេកវិទ្យា ឌីជីថល\u001b[39m\u001b[38;5;124m'\u001b[39m: \u001b[38;5;124m'\u001b[39m\u001b[38;5;124mវិទ្យា ស្ថាន បច្ចេកវិទ្យា/B-ORG ឌីជីថល/I-ORG\u001b[39m\u001b[38;5;124m'\u001b[39m,\n\u001b[1;32m      6\u001b[0m     \u001b[38;5;124m'\u001b[39m\u001b[38;5;124mបណ្ឌិត្យ សភា បច្ចេកវិទ្យា ឌីជីថល កម្ពុជា\u001b[39m\u001b[38;5;124m'\u001b[39m: \u001b[38;5;124m'\u001b[39m\u001b[38;5;124mបណ្ឌិត្យ/B-ORG សភា/I-ORG បច្ចេកវិទ្យា/I-ORG ឌីជីថល/I-ORG កម្ពុជា/I-ORG\u001b[39m\u001b[38;5;124m'\u001b[39m,\n\u001b[0;32m   (...)\u001b[0m\n\u001b[1;32m     25\u001b[0m     \u001b[38;5;124m'\u001b[39m\u001b[38;5;124mវិទ្យា ស្ថាន ស្រាវជ្រាវ អភិវឌ្ឍន៍ កម្ពុជា\u001b[39m\u001b[38;5;124m'\u001b[39m: \u001b[38;5;124m'\u001b[39m\u001b[38;5;124mវិទ្យា ស្ថាន ស្រាវជ្រាវ/B-ORG អភិវឌ្ឍន៍/I-ORG កម្ពុជា/I-ORG\u001b[39m\u001b[38;5;124m'\u001b[39m,\n\u001b[1;32m     26\u001b[0m }\n",
      "\u001b[0;31mNameError\u001b[0m: name 'pd' is not defined"
     ]
    }
   ],
   "source": [
    "df = pd.read_csv(\n",
    "    \"/Users/chhounsophanon/Desktop/project2/name-entity-recognition-khmer-chatbot/segment/AskAboutStaffRoom.csv\")\n",
    "df['question']\n",
    "entity = {\n",
    "    'វិទ្យា ស្ថាន បច្ចេកវិទ្យា ឌីជីថល': 'វិទ្យា ស្ថាន បច្ចេកវិទ្យា/B-ORG ឌីជីថល/I-ORG',\n",
    "    'បណ្ឌិត្យ សភា បច្ចេកវិទ្យា ឌីជីថល កម្ពុជា': 'បណ្ឌិត្យ/B-ORG សភា/I-ORG បច្ចេកវិទ្យា/I-ORG ឌីជីថល/I-ORG កម្ពុជា/I-ORG',\n",
    "    'CADT': 'CADT/B-ORG',\n",
    "    'អាយឌីធី': 'អាយឌីធី/B-ORG',\n",
    "    'IDT': 'IDT/B-ORG',\n",
    "    'អាយឌីអអាយ': 'អាយឌីអអាយ/B-ORG',\n",
    "    'IDRI': 'IDRI/B-ORG',\n",
    "    'អាយឌីជី': 'អាយឌីជី/B-ORG',\n",
    "    'IDG': 'IDG/B-ORG',\n",
    "    'ជាន់ ទី ១': 'ជាន់/B-FLOOR ទី/I-FLOOR ១/I-FLOOR',\n",
    "    'ជាន់ ទី ២': 'ជាន់/B-FLOOR ទី/I-FLOOR ២/I-FLOOR',\n",
    "    'វិទ្យា ស្ថាន អភិបាល កិច្ជ ឌីជីថល': 'វិទ្យា ស្ថាន អភិបាល/B-ORG កិច្ជ/I-ORG ឌីជីថល/I-ORG',\n",
    "    'វិទ្យា ស្ថាន ស្រាវជ្រាវ និងនវានុវត្តន៍ ឌីជីថល': 'វិទ្យា ស្ថាន ស្រាវជ្រាវ/B-ORG និងនវានុវត្តន៍/I-ORG ឌីជីថល/I-ORG',\n",
    "    'វិទ្យា ស្ថាន ថាក់គ្លូប៊ល': 'វិទ្យា ស្ថាន ថាក់គ្លូប៊ល/B-ORG',\n",
    "    'វិទ្យា ស្ថាន បច្ចេកវិទ្យា': 'វិទ្យា ស្ថាន បច្ចេកវិទ្យា/B-ORG',\n",
    "    'វិទ្យា ស្ថាន ជាតិ ពហុ បច្ចេកទេស កម្ពុជា': 'វិទ្យា ស្ថាន ជាតិ/I-ORG ពហុ/I-ORG បច្ចេកទេស/I-ORG កម្ពុជា/I-ORG',\n",
    "    'វិទ្យា ស្ថាន ស៊ីតិក': 'វិទ្យា ស្ថាន ស៊ីតិក/B-ORG',\n",
    "    'វិទ្យា ស្ថាន ពហុ បច្ចេកទេស ព្រះ កុសុមៈ': 'វិទ្យា ស្ថាន ពហុ/B-ORG បច្ចេកទេស/I-ORG ព្រះ/I-ORG កុសុមៈ/I-ORG',\n",
    "    'វិទ្យា ស្ថាន ជាតិ អប់រំ': 'វិទ្យា ស្ថាន ជាតិ/B-ORG អប់រំ/I-ORG',\n",
    "    'វិទ្យា ស្ថាន សេដ្ឋ កិច្ច និង ហិរញ្ញ វត្ថុ': 'វិទ្យា ស្ថាន សេដ្ឋ/B-ORG កិច្ច/I-ORG និង/I-ORG ហិរញ្ញ/I-ORG វត្ថុ/I-ORG',\n",
    "    'វិទ្យា ស្ថាន ស្រាវជ្រាវ អភិវឌ្ឍន៍ កម្ពុជា': 'វិទ្យា ស្ថាន ស្រាវជ្រាវ/B-ORG អភិវឌ្ឍន៍/I-ORG កម្ពុជា/I-ORG',\n",
    "}\n",
    "\n",
    "for index, sentence in df.iterrows():\n",
    "    for key in entity: \n",
    "        if key in sentence['question']:\n",
    "            sentence['question'] = sentence['question'].replace(\n",
    "                key, entity[key])\n",
    "            break\n",
    "    df.loc[index] = sentence \n",
    "\n",
    "\n",
    "df.to_csv('/Users/chhounsophanon/Desktop/project2/name-entity-recognition-khmer-chatbot/entity-tag/AskAboutStaffRoom.csv', index=False)"
   ]
  }
 ],
 "metadata": {
  "kernelspec": {
   "display_name": "Python ('condaPython3.7')",
   "language": "python",
   "name": "python3"
  },
  "language_info": {
   "codemirror_mode": {
    "name": "ipython",
    "version": 3
   },
   "file_extension": ".py",
   "mimetype": "text/x-python",
   "name": "python",
   "nbconvert_exporter": "python",
   "pygments_lexer": "ipython3",
   "version": ""
  },
  "orig_nbformat": 4,
  "vscode": {
   "interpreter": {
    "hash": "25a19fbe0a9132dfb9279d48d161753c6352f8f9478c2e74383d340069b907c3"
   }
  }
 },
 "nbformat": 4,
 "nbformat_minor": 2
}
